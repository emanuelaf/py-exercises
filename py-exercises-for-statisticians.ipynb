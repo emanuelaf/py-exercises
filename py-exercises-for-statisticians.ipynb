{
 "cells": [
  {
   "cell_type": "markdown",
   "metadata": {},
   "source": [
    "# Some simple exercises for Statisticians learning Python"
   ]
  },
  {
   "cell_type": "markdown",
   "metadata": {},
   "source": [
    "While learning some basics of Python, I am giving myself some exercises that may be useful interesting as a statistician"
   ]
  },
  {
   "cell_type": "markdown",
   "metadata": {},
   "source": [
    "*1. Write a function that, given a list, returns its mean*"
   ]
  },
  {
   "cell_type": "code",
   "execution_count": 12,
   "metadata": {},
   "outputs": [
    {
     "data": {
      "text/plain": [
       "6.0"
      ]
     },
     "execution_count": 12,
     "metadata": {},
     "output_type": "execute_result"
    }
   ],
   "source": [
    "x = [1,5,12]\n",
    "\n",
    "def my_mean(x):\n",
    "    return sum(x)/len(x)\n",
    "\n",
    "my_mean(x)"
   ]
  },
  {
   "cell_type": "markdown",
   "metadata": {},
   "source": [
    "*2. Write a function that, given a list, returns its variance (population variance)*"
   ]
  },
  {
   "cell_type": "code",
   "execution_count": 13,
   "metadata": {},
   "outputs": [
    {
     "data": {
      "text/plain": [
       "20.666666666666664"
      ]
     },
     "execution_count": 13,
     "metadata": {},
     "output_type": "execute_result"
    }
   ],
   "source": [
    "x = [1,5,12]\n",
    "\n",
    "def my_var(x):\n",
    "    squared_x = list(map(lambda x: x**2, x))\n",
    "    mean_of_squared = sum(squared_x)/len(x)\n",
    "    squared_mean = (sum(x)/len(x))**2\n",
    "    return mean_of_squared - squared_mean\n",
    "\n",
    "my_var(x)"
   ]
  },
  {
   "cell_type": "code",
   "execution_count": 38,
   "metadata": {},
   "outputs": [
    {
     "data": {
      "text/plain": [
       "30.999999999999996"
      ]
     },
     "execution_count": 38,
     "metadata": {},
     "output_type": "execute_result"
    }
   ],
   "source": [
    "# for sample variance:\n",
    "my_var(x)*(len(x)/(len(x)-1))"
   ]
  },
  {
   "cell_type": "markdown",
   "metadata": {},
   "source": [
    "*3. Write a function that, given a list, returns its quantiles*"
   ]
  },
  {
   "cell_type": "code",
   "execution_count": 7,
   "metadata": {},
   "outputs": [
    {
     "name": "stdout",
     "output_type": "stream",
     "text": [
      "[22, 29, 21, 24, 21, 27, 27, 27, 30, 26, 23, 21, 27, 20, 26, 26, 29, 20, 27, 24]\n"
     ]
    }
   ],
   "source": [
    "# I'm going to use a random number generator function (randint() from the module random) to generate a \n",
    "# list containing 20 integers\n",
    "from random import seed\n",
    "from random import randint\n",
    "\n",
    "# seed random number generator\n",
    "seed(1)\n",
    "\n",
    "# generate twenty random numbers\n",
    "data = []\n",
    "for i in range(20):\n",
    "    data.append(randint(20,30))\n",
    "\n",
    "print(data)"
   ]
  },
  {
   "cell_type": "code",
   "execution_count": 8,
   "metadata": {},
   "outputs": [
    {
     "data": {
      "text/plain": [
       "26"
      ]
     },
     "execution_count": 8,
     "metadata": {},
     "output_type": "execute_result"
    }
   ],
   "source": [
    "def quantile(x, p):\n",
    "    n = len(x)\n",
    "    x_sorted = sorted(x)\n",
    "    seq = range(1,len(x_sorted)+1)\n",
    "    cumulative = map(lambda x: x/n, seq)\n",
    "    empirical_p = map(lambda x: x >= p, cumulative)\n",
    "    i = 0\n",
    "    while empirical_p[i] == False:\n",
    "        i = i +1\n",
    "    return x_sorted[i]\n",
    "\n",
    "quantile(x=data, p = 0.5)"
   ]
  },
  {
   "cell_type": "markdown",
   "metadata": {},
   "source": [
    "*4. Write a function that, given two vectors of x (independent variable) and y (dependent variable), returns the regression coefficients for a simple linear regression model $y = \\beta_0 + \\beta_1 \\times x$, the fitted values and the associated statistics of fit $R^2$.*"
   ]
  },
  {
   "cell_type": "code",
   "execution_count": 35,
   "metadata": {},
   "outputs": [],
   "source": [
    "# I am going to reuse functions created in 1. and 2.\n",
    "x = [10, 12, 13, 18, 20]\n",
    "y = [23.4, 40.2, 42.3, 49.5, 51]\n",
    "\n",
    "def my_cov(x,y):\n",
    "    n = len(x)\n",
    "#    products = []\n",
    "#    for num1,num2 in zip(x, y):\n",
    "#        products.append(num1*num2)\n",
    "    products = [num1*num2 for (num1, num2) in zip(x,y)] \n",
    "    prod = (sum(products)/n)\n",
    "    return prod-my_mean(x)*my_mean(y)\n",
    "\n",
    "def my_beta1(x,y):\n",
    "    beta1 = my_cov(x,y)/my_var(x)\n",
    "    return beta1\n",
    "    \n",
    "def my_beta0(x,y):\n",
    "    beta0 = my_mean(y) - my_beta1(x,y)*my_mean(x)\n",
    "    return beta0 \n"
   ]
  },
  {
   "cell_type": "code",
   "execution_count": 36,
   "metadata": {},
   "outputs": [
    {
     "data": {
      "text/plain": [
       "{'beta0': 7.6794943820224475,\n",
       " 'beta1': 2.3014044943820244,\n",
       " 'fitted values': [30.693539325842693,\n",
       "  35.29634831460674,\n",
       "  37.597752808988766,\n",
       "  49.104775280898885,\n",
       "  53.70758426966294],\n",
       " 'r_squared': 21.367971910112374}"
      ]
     },
     "execution_count": 36,
     "metadata": {},
     "output_type": "execute_result"
    }
   ],
   "source": [
    "def my_lm(x,y):\n",
    "    coefficients = {'beta0': my_beta0(x,y), 'beta1': my_beta1(x,y)}\n",
    "    fitted = list(map(lambda x: coefficients['beta1']*x + coefficients['beta0'], x))\n",
    "    squared_residuals = []\n",
    "    for num1,num2 in zip(y, fitted):\n",
    "        squared_residuals.append((num1-num2)**2)\n",
    "    r_squared = sum(squared_residuals)/len(x)\n",
    "    return({'beta0': my_beta0(x,y), \n",
    "            'beta1': my_beta1(x,y), \n",
    "            'fitted values': fitted, \n",
    "            'r_squared': r_squared})\n",
    "\n",
    "my_lm(x,y)\n"
   ]
  },
  {
   "cell_type": "markdown",
   "metadata": {},
   "source": [
    "*5. Create a function that, given a sentence, returns the count of all the different words contained in the sentence.*"
   ]
  },
  {
   "cell_type": "code",
   "execution_count": 32,
   "metadata": {},
   "outputs": [
    {
     "data": {
      "text/plain": [
       "{'I': 3,\n",
       " 'love': 2,\n",
       " 'tango': 1,\n",
       " 'and': 1,\n",
       " 'dancing.': 2,\n",
       " 'The': 1,\n",
       " 'first': 1,\n",
       " 'thing': 1,\n",
       " 'will': 1,\n",
       " 'do': 1,\n",
       " 'after': 1,\n",
       " 'this': 1,\n",
       " 'quarantine': 1,\n",
       " 'is': 1}"
      ]
     },
     "execution_count": 32,
     "metadata": {},
     "output_type": "execute_result"
    }
   ],
   "source": [
    "sentence = 'I love tango and I love dancing. The first thing I will do after this quarantine is dancing.'\n",
    "\n",
    "def wordCount(sentence):\n",
    "    d = {}\n",
    "    for word in sentence.split():\n",
    "        if word in d:\n",
    "            d[word] += 1\n",
    "        else:\n",
    "            d[word] = 1\n",
    "    return(d)\n",
    " \n",
    "d"
   ]
  }
 ],
 "metadata": {
  "kernelspec": {
   "display_name": "Python 3",
   "language": "python",
   "name": "python3"
  },
  "language_info": {
   "codemirror_mode": {
    "name": "ipython",
    "version": 3
   },
   "file_extension": ".py",
   "mimetype": "text/x-python",
   "name": "python",
   "nbconvert_exporter": "python",
   "pygments_lexer": "ipython3",
   "version": "3.7.3"
  }
 },
 "nbformat": 4,
 "nbformat_minor": 2
}
